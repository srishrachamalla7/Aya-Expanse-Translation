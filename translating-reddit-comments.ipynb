{
 "cells": [
  {
   "cell_type": "code",
   "execution_count": 1,
   "id": "bc0cb323",
   "metadata": {
    "_cell_guid": "b1076dfc-b9ad-4769-8c92-a6c4dae69d19",
    "_uuid": "8f2839f25d086af736a60e9eeb907d3b93b6e0e5",
    "execution": {
     "iopub.execute_input": "2024-10-24T18:11:53.413225Z",
     "iopub.status.busy": "2024-10-24T18:11:53.412852Z",
     "iopub.status.idle": "2024-10-24T18:11:54.117213Z",
     "shell.execute_reply": "2024-10-24T18:11:54.116221Z"
    },
    "papermill": {
     "duration": 0.715816,
     "end_time": "2024-10-24T18:11:54.119433",
     "exception": false,
     "start_time": "2024-10-24T18:11:53.403617",
     "status": "completed"
    },
    "tags": []
   },
   "outputs": [
    {
     "name": "stdout",
     "output_type": "stream",
     "text": [
      "/kaggle/input/chatgpt-reddit/chatgpt-reddit-comments.csv\n",
      "/kaggle/input/aya-expanse/transformers/8b/1/model.safetensors.index.json\n",
      "/kaggle/input/aya-expanse/transformers/8b/1/model-00003-of-00004.safetensors\n",
      "/kaggle/input/aya-expanse/transformers/8b/1/config.json\n",
      "/kaggle/input/aya-expanse/transformers/8b/1/model-00001-of-00004.safetensors\n",
      "/kaggle/input/aya-expanse/transformers/8b/1/README.md\n",
      "/kaggle/input/aya-expanse/transformers/8b/1/tokenizer.json\n",
      "/kaggle/input/aya-expanse/transformers/8b/1/tokenizer_config.json\n",
      "/kaggle/input/aya-expanse/transformers/8b/1/model-00004-of-00004.safetensors\n",
      "/kaggle/input/aya-expanse/transformers/8b/1/special_tokens_map.json\n",
      "/kaggle/input/aya-expanse/transformers/8b/1/.gitattributes\n",
      "/kaggle/input/aya-expanse/transformers/8b/1/model-00002-of-00004.safetensors\n",
      "/kaggle/input/aya-expanse/transformers/8b/1/generation_config.json\n"
     ]
    }
   ],
   "source": [
    "# This Python 3 environment comes with many helpful analytics libraries installed\n",
    "# It is defined by the kaggle/python Docker image: https://github.com/kaggle/docker-python\n",
    "# For example, here's several helpful packages to load\n",
    "\n",
    "import numpy as np # linear algebra\n",
    "import pandas as pd # data processing, CSV file I/O (e.g. pd.read_csv)\n",
    "\n",
    "# Input data files are available in the read-only \"../input/\" directory\n",
    "# For example, running this (by clicking run or pressing Shift+Enter) will list all files under the input directory\n",
    "\n",
    "import os\n",
    "for dirname, _, filenames in os.walk('/kaggle/input'):\n",
    "    for filename in filenames:\n",
    "        print(os.path.join(dirname, filename))\n",
    "\n",
    "# You can write up to 20GB to the current directory (/kaggle/working/) that gets preserved as output when you create a version using \"Save & Run All\" \n",
    "# You can also write temporary files to /kaggle/temp/, but they won't be saved outside of the current session"
   ]
  },
  {
   "cell_type": "code",
   "execution_count": 2,
   "id": "837a00f5",
   "metadata": {
    "execution": {
     "iopub.execute_input": "2024-10-24T18:11:54.135020Z",
     "iopub.status.busy": "2024-10-24T18:11:54.134500Z",
     "iopub.status.idle": "2024-10-24T18:11:54.139049Z",
     "shell.execute_reply": "2024-10-24T18:11:54.138036Z"
    },
    "papermill": {
     "duration": 0.01468,
     "end_time": "2024-10-24T18:11:54.141052",
     "exception": false,
     "start_time": "2024-10-24T18:11:54.126372",
     "status": "completed"
    },
    "tags": []
   },
   "outputs": [],
   "source": [
    "import time as tm"
   ]
  },
  {
   "cell_type": "code",
   "execution_count": 3,
   "id": "bd7c41d6",
   "metadata": {
    "execution": {
     "iopub.execute_input": "2024-10-24T18:11:54.156577Z",
     "iopub.status.busy": "2024-10-24T18:11:54.156164Z",
     "iopub.status.idle": "2024-10-24T18:12:23.758244Z",
     "shell.execute_reply": "2024-10-24T18:12:23.757050Z"
    },
    "papermill": {
     "duration": 29.612999,
     "end_time": "2024-10-24T18:12:23.760818",
     "exception": false,
     "start_time": "2024-10-24T18:11:54.147819",
     "status": "completed"
    },
    "tags": []
   },
   "outputs": [
    {
     "name": "stdout",
     "output_type": "stream",
     "text": [
      "Requirement already satisfied: accelerate in /opt/conda/lib/python3.10/site-packages (0.34.2)\r\n",
      "Collecting accelerate\r\n",
      "  Downloading accelerate-1.0.1-py3-none-any.whl.metadata (19 kB)\r\n",
      "Requirement already satisfied: numpy<3.0.0,>=1.17 in /opt/conda/lib/python3.10/site-packages (from accelerate) (1.26.4)\r\n",
      "Requirement already satisfied: packaging>=20.0 in /opt/conda/lib/python3.10/site-packages (from accelerate) (21.3)\r\n",
      "Requirement already satisfied: psutil in /opt/conda/lib/python3.10/site-packages (from accelerate) (5.9.3)\r\n",
      "Requirement already satisfied: pyyaml in /opt/conda/lib/python3.10/site-packages (from accelerate) (6.0.2)\r\n",
      "Requirement already satisfied: torch>=1.10.0 in /opt/conda/lib/python3.10/site-packages (from accelerate) (2.4.0)\r\n",
      "Requirement already satisfied: huggingface-hub>=0.21.0 in /opt/conda/lib/python3.10/site-packages (from accelerate) (0.25.1)\r\n",
      "Requirement already satisfied: safetensors>=0.4.3 in /opt/conda/lib/python3.10/site-packages (from accelerate) (0.4.5)\r\n",
      "Requirement already satisfied: filelock in /opt/conda/lib/python3.10/site-packages (from huggingface-hub>=0.21.0->accelerate) (3.15.1)\r\n",
      "Requirement already satisfied: fsspec>=2023.5.0 in /opt/conda/lib/python3.10/site-packages (from huggingface-hub>=0.21.0->accelerate) (2024.6.1)\r\n",
      "Requirement already satisfied: requests in /opt/conda/lib/python3.10/site-packages (from huggingface-hub>=0.21.0->accelerate) (2.32.3)\r\n",
      "Requirement already satisfied: tqdm>=4.42.1 in /opt/conda/lib/python3.10/site-packages (from huggingface-hub>=0.21.0->accelerate) (4.66.4)\r\n",
      "Requirement already satisfied: typing-extensions>=3.7.4.3 in /opt/conda/lib/python3.10/site-packages (from huggingface-hub>=0.21.0->accelerate) (4.12.2)\r\n",
      "Requirement already satisfied: pyparsing!=3.0.5,>=2.0.2 in /opt/conda/lib/python3.10/site-packages (from packaging>=20.0->accelerate) (3.1.2)\r\n",
      "Requirement already satisfied: sympy in /opt/conda/lib/python3.10/site-packages (from torch>=1.10.0->accelerate) (1.13.3)\r\n",
      "Requirement already satisfied: networkx in /opt/conda/lib/python3.10/site-packages (from torch>=1.10.0->accelerate) (3.3)\r\n",
      "Requirement already satisfied: jinja2 in /opt/conda/lib/python3.10/site-packages (from torch>=1.10.0->accelerate) (3.1.4)\r\n",
      "Requirement already satisfied: MarkupSafe>=2.0 in /opt/conda/lib/python3.10/site-packages (from jinja2->torch>=1.10.0->accelerate) (2.1.5)\r\n",
      "Requirement already satisfied: charset-normalizer<4,>=2 in /opt/conda/lib/python3.10/site-packages (from requests->huggingface-hub>=0.21.0->accelerate) (3.3.2)\r\n",
      "Requirement already satisfied: idna<4,>=2.5 in /opt/conda/lib/python3.10/site-packages (from requests->huggingface-hub>=0.21.0->accelerate) (3.7)\r\n",
      "Requirement already satisfied: urllib3<3,>=1.21.1 in /opt/conda/lib/python3.10/site-packages (from requests->huggingface-hub>=0.21.0->accelerate) (1.26.18)\r\n",
      "Requirement already satisfied: certifi>=2017.4.17 in /opt/conda/lib/python3.10/site-packages (from requests->huggingface-hub>=0.21.0->accelerate) (2024.8.30)\r\n",
      "Requirement already satisfied: mpmath<1.4,>=1.1.0 in /opt/conda/lib/python3.10/site-packages (from sympy->torch>=1.10.0->accelerate) (1.3.0)\r\n",
      "Downloading accelerate-1.0.1-py3-none-any.whl (330 kB)\r\n",
      "\u001b[2K   \u001b[90m━━━━━━━━━━━━━━━━━━━━━━━━━━━━━━━━━━━━━━━━\u001b[0m \u001b[32m330.9/330.9 kB\u001b[0m \u001b[31m6.6 MB/s\u001b[0m eta \u001b[36m0:00:00\u001b[0m\r\n",
      "\u001b[?25hInstalling collected packages: accelerate\r\n",
      "  Attempting uninstall: accelerate\r\n",
      "    Found existing installation: accelerate 0.34.2\r\n",
      "    Uninstalling accelerate-0.34.2:\r\n",
      "      Successfully uninstalled accelerate-0.34.2\r\n",
      "Successfully installed accelerate-1.0.1\r\n",
      "Collecting bitsandbytes\r\n",
      "  Downloading bitsandbytes-0.44.1-py3-none-manylinux_2_24_x86_64.whl.metadata (3.5 kB)\r\n",
      "Requirement already satisfied: torch in /opt/conda/lib/python3.10/site-packages (from bitsandbytes) (2.4.0)\r\n",
      "Requirement already satisfied: numpy in /opt/conda/lib/python3.10/site-packages (from bitsandbytes) (1.26.4)\r\n",
      "Requirement already satisfied: filelock in /opt/conda/lib/python3.10/site-packages (from torch->bitsandbytes) (3.15.1)\r\n",
      "Requirement already satisfied: typing-extensions>=4.8.0 in /opt/conda/lib/python3.10/site-packages (from torch->bitsandbytes) (4.12.2)\r\n",
      "Requirement already satisfied: sympy in /opt/conda/lib/python3.10/site-packages (from torch->bitsandbytes) (1.13.3)\r\n",
      "Requirement already satisfied: networkx in /opt/conda/lib/python3.10/site-packages (from torch->bitsandbytes) (3.3)\r\n",
      "Requirement already satisfied: jinja2 in /opt/conda/lib/python3.10/site-packages (from torch->bitsandbytes) (3.1.4)\r\n",
      "Requirement already satisfied: fsspec in /opt/conda/lib/python3.10/site-packages (from torch->bitsandbytes) (2024.6.1)\r\n",
      "Requirement already satisfied: MarkupSafe>=2.0 in /opt/conda/lib/python3.10/site-packages (from jinja2->torch->bitsandbytes) (2.1.5)\r\n",
      "Requirement already satisfied: mpmath<1.4,>=1.1.0 in /opt/conda/lib/python3.10/site-packages (from sympy->torch->bitsandbytes) (1.3.0)\r\n",
      "Downloading bitsandbytes-0.44.1-py3-none-manylinux_2_24_x86_64.whl (122.4 MB)\r\n",
      "\u001b[2K   \u001b[90m━━━━━━━━━━━━━━━━━━━━━━━━━━━━━━━━━━━━━━━━\u001b[0m \u001b[32m122.4/122.4 MB\u001b[0m \u001b[31m13.3 MB/s\u001b[0m eta \u001b[36m0:00:00\u001b[0m\r\n",
      "\u001b[?25hInstalling collected packages: bitsandbytes\r\n",
      "Successfully installed bitsandbytes-0.44.1\r\n"
     ]
    }
   ],
   "source": [
    "# for quantization of the model\n",
    "!pip install --upgrade accelerate\n",
    "!pip install --upgrade bitsandbytes"
   ]
  },
  {
   "cell_type": "code",
   "execution_count": 4,
   "id": "15cb14f9",
   "metadata": {
    "execution": {
     "iopub.execute_input": "2024-10-24T18:12:23.785987Z",
     "iopub.status.busy": "2024-10-24T18:12:23.785076Z",
     "iopub.status.idle": "2024-10-24T18:12:28.282487Z",
     "shell.execute_reply": "2024-10-24T18:12:28.281206Z"
    },
    "papermill": {
     "duration": 4.512706,
     "end_time": "2024-10-24T18:12:28.285621",
     "exception": false,
     "start_time": "2024-10-24T18:12:23.772915",
     "status": "completed"
    },
    "tags": []
   },
   "outputs": [],
   "source": [
    "# pip install 'git+https://github.com/huggingface/transformers.git'\n",
    "from transformers import AutoTokenizer, AutoModelForCausalLM\n",
    "from transformers import BitsAndBytesConfig\n",
    "import torch\n"
   ]
  },
  {
   "cell_type": "code",
   "execution_count": 5,
   "id": "c0e3ff66",
   "metadata": {
    "execution": {
     "iopub.execute_input": "2024-10-24T18:12:28.315529Z",
     "iopub.status.busy": "2024-10-24T18:12:28.314964Z",
     "iopub.status.idle": "2024-10-24T18:15:20.606434Z",
     "shell.execute_reply": "2024-10-24T18:15:20.605631Z"
    },
    "papermill": {
     "duration": 172.305724,
     "end_time": "2024-10-24T18:15:20.608699",
     "exception": false,
     "start_time": "2024-10-24T18:12:28.302975",
     "status": "completed"
    },
    "tags": []
   },
   "outputs": [
    {
     "name": "stderr",
     "output_type": "stream",
     "text": [
      "The `load_in_4bit` and `load_in_8bit` arguments are deprecated and will be removed in the future versions. Please, pass a `BitsAndBytesConfig` object in `quantization_config` argument instead.\n"
     ]
    },
    {
     "data": {
      "application/vnd.jupyter.widget-view+json": {
       "model_id": "d2af028ba7ad4a6fb0a103fd0789aca4",
       "version_major": 2,
       "version_minor": 0
      },
      "text/plain": [
       "Loading checkpoint shards:   0%|          | 0/4 [00:00<?, ?it/s]"
      ]
     },
     "metadata": {},
     "output_type": "display_data"
    }
   ],
   "source": [
    "model_input = '/kaggle/input/aya-expanse/transformers/8b/1'\n",
    "\n",
    "tokenizer = AutoTokenizer.from_pretrained(model_input)\n",
    "model = AutoModelForCausalLM.from_pretrained(model_input, device_map=\"auto\", load_in_4bit=True, bnb_4bit_compute_dtype=torch.bfloat16)"
   ]
  },
  {
   "cell_type": "code",
   "execution_count": 6,
   "id": "b7c76224",
   "metadata": {
    "execution": {
     "iopub.execute_input": "2024-10-24T18:15:20.632981Z",
     "iopub.status.busy": "2024-10-24T18:15:20.632457Z",
     "iopub.status.idle": "2024-10-24T18:15:20.639229Z",
     "shell.execute_reply": "2024-10-24T18:15:20.638253Z"
    },
    "papermill": {
     "duration": 0.02154,
     "end_time": "2024-10-24T18:15:20.641291",
     "exception": false,
     "start_time": "2024-10-24T18:15:20.619751",
     "status": "completed"
    },
    "tags": []
   },
   "outputs": [],
   "source": [
    "def hindi_inference(text):\n",
    "#     templ = f'<BOS_TOKEN><|START_OF_TURN_TOKEN|><|USER_TOKEN|>{text}<|END_OF_TURN_TOKEN|><|START_OF_TURN_TOKEN|><|CHATBOT_TOKEN|>'\n",
    "    messages = [{\"role\": \"user\", \"content\": 'You are a helpful assistant for translating text to hindi, Please give the hindi text only dont add any extra like :Here is the translation: should be like ex:कृत्रिम बुद्धिमत्ता का प्रयास करें; the text is: ' + text}]\n",
    "    input_ids = tokenizer.apply_chat_template(messages, tokenize=True, add_generation_prompt=False, return_tensors=\"pt\")\n",
    "    gen_tokens = model.generate(\n",
    "        input_ids, \n",
    "        max_new_tokens=50, \n",
    "        do_sample=True, \n",
    "        temperature=0.1,\n",
    "        )\n",
    "#     gen_text = tokenizer.decode(gen_tokens[0])\n",
    "    return tokenizer.decode(gen_tokens[0, input_ids.shape[1]:],skip_special_tokens=True)"
   ]
  },
  {
   "cell_type": "code",
   "execution_count": 7,
   "id": "102f7043",
   "metadata": {
    "execution": {
     "iopub.execute_input": "2024-10-24T18:15:20.664772Z",
     "iopub.status.busy": "2024-10-24T18:15:20.664429Z",
     "iopub.status.idle": "2024-10-24T18:15:20.670901Z",
     "shell.execute_reply": "2024-10-24T18:15:20.669958Z"
    },
    "papermill": {
     "duration": 0.020859,
     "end_time": "2024-10-24T18:15:20.673120",
     "exception": false,
     "start_time": "2024-10-24T18:15:20.652261",
     "status": "completed"
    },
    "tags": []
   },
   "outputs": [],
   "source": [
    "def german_inference(text):\n",
    "#     templ = f'<BOS_TOKEN><|START_OF_TURN_TOKEN|><|USER_TOKEN|>{text}<|END_OF_TURN_TOKEN|><|START_OF_TURN_TOKEN|><|CHATBOT_TOKEN|>'\n",
    "    messages = [{\"role\": \"user\", \"content\": 'You are a helpful assistant for translating text to German, Please give the german text only dont add any extra like :Here is the translation: should be like ex:wasser bitte!; the text is: ' + text}]\n",
    "    input_ids = tokenizer.apply_chat_template(messages, tokenize=True, add_generation_prompt=False, return_tensors=\"pt\")\n",
    "    gen_tokens = model.generate(\n",
    "        input_ids, \n",
    "        max_new_tokens=50, \n",
    "        do_sample=True, \n",
    "        temperature=0.1,\n",
    "        )\n",
    "#     gen_text = tokenizer.decode(gen_tokens[0])\n",
    "    return tokenizer.decode(gen_tokens[0, input_ids.shape[1]:],skip_special_tokens=True)"
   ]
  },
  {
   "cell_type": "code",
   "execution_count": 8,
   "id": "bbc8d4ee",
   "metadata": {
    "execution": {
     "iopub.execute_input": "2024-10-24T18:15:20.697904Z",
     "iopub.status.busy": "2024-10-24T18:15:20.697045Z",
     "iopub.status.idle": "2024-10-24T18:15:20.703082Z",
     "shell.execute_reply": "2024-10-24T18:15:20.702242Z"
    },
    "papermill": {
     "duration": 0.020198,
     "end_time": "2024-10-24T18:15:20.704955",
     "exception": false,
     "start_time": "2024-10-24T18:15:20.684757",
     "status": "completed"
    },
    "tags": []
   },
   "outputs": [],
   "source": [
    "def russian_inference(text):\n",
    "#     templ = f'<BOS_TOKEN><|START_OF_TURN_TOKEN|><|USER_TOKEN|>{text}<|END_OF_TURN_TOKEN|><|START_OF_TURN_TOKEN|><|CHATBOT_TOKEN|>'\n",
    "    messages = [{\"role\": \"user\", \"content\": 'You are a helpful assistant for translating text to russian, Please give the german text only dont add any extra like :Here is the translation: should be like ex:Меня зовут; the text is: ' + text}]\n",
    "    input_ids = tokenizer.apply_chat_template(messages, tokenize=True, add_generation_prompt=False, return_tensors=\"pt\")\n",
    "    gen_tokens = model.generate(\n",
    "        input_ids, \n",
    "        max_new_tokens=50, \n",
    "        do_sample=True, \n",
    "        temperature=0.1,\n",
    "        )\n",
    "#     gen_text = tokenizer.decode(gen_tokens[0])\n",
    "    return tokenizer.decode(gen_tokens[0, input_ids.shape[1]:],skip_special_tokens=True)"
   ]
  },
  {
   "cell_type": "code",
   "execution_count": 9,
   "id": "1baf405d",
   "metadata": {
    "execution": {
     "iopub.execute_input": "2024-10-24T18:15:20.728261Z",
     "iopub.status.busy": "2024-10-24T18:15:20.727910Z",
     "iopub.status.idle": "2024-10-24T18:15:20.734213Z",
     "shell.execute_reply": "2024-10-24T18:15:20.733336Z"
    },
    "papermill": {
     "duration": 0.020539,
     "end_time": "2024-10-24T18:15:20.736232",
     "exception": false,
     "start_time": "2024-10-24T18:15:20.715693",
     "status": "completed"
    },
    "tags": []
   },
   "outputs": [],
   "source": [
    "def Korean_inference(text):\n",
    "#     templ = f'<BOS_TOKEN><|START_OF_TURN_TOKEN|><|USER_TOKEN|>{text}<|END_OF_TURN_TOKEN|><|START_OF_TURN_TOKEN|><|CHATBOT_TOKEN|>'\n",
    "    messages = [{\"role\": \"user\", \"content\": 'You are a helpful assistant for translating text to korean, Please give the german text only dont add any extra like :Here is the translation: should be like ex: 안녕히 계세요; the text is: ' + text}]\n",
    "    input_ids = tokenizer.apply_chat_template(messages, tokenize=True, add_generation_prompt=False, return_tensors=\"pt\")\n",
    "    gen_tokens = model.generate(\n",
    "        input_ids, \n",
    "        max_new_tokens=50, \n",
    "        do_sample=True, \n",
    "        temperature=0.1,\n",
    "        )\n",
    "#     gen_text = tokenizer.decode(gen_tokens[0])\n",
    "    return tokenizer.decode(gen_tokens[0, input_ids.shape[1]:],skip_special_tokens=True)"
   ]
  },
  {
   "cell_type": "code",
   "execution_count": 10,
   "id": "8d0b4a1c",
   "metadata": {
    "execution": {
     "iopub.execute_input": "2024-10-24T18:15:20.759669Z",
     "iopub.status.busy": "2024-10-24T18:15:20.758957Z",
     "iopub.status.idle": "2024-10-24T18:15:21.231811Z",
     "shell.execute_reply": "2024-10-24T18:15:21.230973Z"
    },
    "papermill": {
     "duration": 0.487032,
     "end_time": "2024-10-24T18:15:21.234144",
     "exception": false,
     "start_time": "2024-10-24T18:15:20.747112",
     "status": "completed"
    },
    "tags": []
   },
   "outputs": [],
   "source": [
    "#taking whatsapp chat dataset for testing\n",
    "import pandas as pd\n",
    "df = pd.read_csv('/kaggle/input/chatgpt-reddit/chatgpt-reddit-comments.csv')"
   ]
  },
  {
   "cell_type": "code",
   "execution_count": 11,
   "id": "93b127f0",
   "metadata": {
    "execution": {
     "iopub.execute_input": "2024-10-24T18:15:21.258379Z",
     "iopub.status.busy": "2024-10-24T18:15:21.257429Z",
     "iopub.status.idle": "2024-10-24T18:15:21.275525Z",
     "shell.execute_reply": "2024-10-24T18:15:21.274635Z"
    },
    "papermill": {
     "duration": 0.032238,
     "end_time": "2024-10-24T18:15:21.277605",
     "exception": false,
     "start_time": "2024-10-24T18:15:21.245367",
     "status": "completed"
    },
    "tags": []
   },
   "outputs": [
    {
     "data": {
      "text/html": [
       "<div>\n",
       "<style scoped>\n",
       "    .dataframe tbody tr th:only-of-type {\n",
       "        vertical-align: middle;\n",
       "    }\n",
       "\n",
       "    .dataframe tbody tr th {\n",
       "        vertical-align: top;\n",
       "    }\n",
       "\n",
       "    .dataframe thead th {\n",
       "        text-align: right;\n",
       "    }\n",
       "</style>\n",
       "<table border=\"1\" class=\"dataframe\">\n",
       "  <thead>\n",
       "    <tr style=\"text-align: right;\">\n",
       "      <th></th>\n",
       "      <th>Unnamed: 0</th>\n",
       "      <th>comment_id</th>\n",
       "      <th>comment_parent_id</th>\n",
       "      <th>comment_body</th>\n",
       "      <th>subreddit</th>\n",
       "    </tr>\n",
       "  </thead>\n",
       "  <tbody>\n",
       "    <tr>\n",
       "      <th>0</th>\n",
       "      <td>0</td>\n",
       "      <td>iztdxuh</td>\n",
       "      <td>t3_zj2aeu</td>\n",
       "      <td>I've been shocked for days now, I don't need c...</td>\n",
       "      <td>r/ChatGPT</td>\n",
       "    </tr>\n",
       "    <tr>\n",
       "      <th>1</th>\n",
       "      <td>1</td>\n",
       "      <td>iztn0q0</td>\n",
       "      <td>t3_zj2aeu</td>\n",
       "      <td>\\n\\nI am so angry right now. I just wasted my...</td>\n",
       "      <td>r/ChatGPT</td>\n",
       "    </tr>\n",
       "    <tr>\n",
       "      <th>2</th>\n",
       "      <td>2</td>\n",
       "      <td>izudrph</td>\n",
       "      <td>t3_zj2aeu</td>\n",
       "      <td>chatgpt karma whoring is here folks! just when...</td>\n",
       "      <td>r/ChatGPT</td>\n",
       "    </tr>\n",
       "    <tr>\n",
       "      <th>3</th>\n",
       "      <td>3</td>\n",
       "      <td>iztfhtb</td>\n",
       "      <td>t3_zj2aeu</td>\n",
       "      <td>Worked on me, ngl.</td>\n",
       "      <td>r/ChatGPT</td>\n",
       "    </tr>\n",
       "    <tr>\n",
       "      <th>4</th>\n",
       "      <td>4</td>\n",
       "      <td>izu2as9</td>\n",
       "      <td>t3_zj2aeu</td>\n",
       "      <td>Certified 10/10, must-see moment. It really di...</td>\n",
       "      <td>r/ChatGPT</td>\n",
       "    </tr>\n",
       "  </tbody>\n",
       "</table>\n",
       "</div>"
      ],
      "text/plain": [
       "  Unnamed: 0 comment_id comment_parent_id  \\\n",
       "0          0    iztdxuh         t3_zj2aeu   \n",
       "1          1    iztn0q0         t3_zj2aeu   \n",
       "2          2    izudrph         t3_zj2aeu   \n",
       "3          3    iztfhtb         t3_zj2aeu   \n",
       "4          4    izu2as9         t3_zj2aeu   \n",
       "\n",
       "                                        comment_body  subreddit  \n",
       "0  I've been shocked for days now, I don't need c...  r/ChatGPT  \n",
       "1   \\n\\nI am so angry right now. I just wasted my...  r/ChatGPT  \n",
       "2  chatgpt karma whoring is here folks! just when...  r/ChatGPT  \n",
       "3                                 Worked on me, ngl.  r/ChatGPT  \n",
       "4  Certified 10/10, must-see moment. It really di...  r/ChatGPT  "
      ]
     },
     "execution_count": 11,
     "metadata": {},
     "output_type": "execute_result"
    }
   ],
   "source": [
    "df.head()"
   ]
  },
  {
   "cell_type": "code",
   "execution_count": 12,
   "id": "91e1331f",
   "metadata": {
    "execution": {
     "iopub.execute_input": "2024-10-24T18:15:21.301151Z",
     "iopub.status.busy": "2024-10-24T18:15:21.300549Z",
     "iopub.status.idle": "2024-10-24T18:15:21.306531Z",
     "shell.execute_reply": "2024-10-24T18:15:21.305657Z"
    },
    "papermill": {
     "duration": 0.019787,
     "end_time": "2024-10-24T18:15:21.308396",
     "exception": false,
     "start_time": "2024-10-24T18:15:21.288609",
     "status": "completed"
    },
    "tags": []
   },
   "outputs": [
    {
     "data": {
      "text/plain": [
       "(52416, 5)"
      ]
     },
     "execution_count": 12,
     "metadata": {},
     "output_type": "execute_result"
    }
   ],
   "source": [
    "df.shape"
   ]
  },
  {
   "cell_type": "code",
   "execution_count": 13,
   "id": "e2d195ea",
   "metadata": {
    "execution": {
     "iopub.execute_input": "2024-10-24T18:15:21.332230Z",
     "iopub.status.busy": "2024-10-24T18:15:21.331378Z",
     "iopub.status.idle": "2024-10-24T18:15:21.367039Z",
     "shell.execute_reply": "2024-10-24T18:15:21.366042Z"
    },
    "papermill": {
     "duration": 0.049667,
     "end_time": "2024-10-24T18:15:21.369053",
     "exception": false,
     "start_time": "2024-10-24T18:15:21.319386",
     "status": "completed"
    },
    "tags": []
   },
   "outputs": [
    {
     "data": {
      "text/plain": [
       "Unnamed: 0           3\n",
       "comment_id           1\n",
       "comment_parent_id    1\n",
       "comment_body         1\n",
       "subreddit            1\n",
       "dtype: int64"
      ]
     },
     "execution_count": 13,
     "metadata": {},
     "output_type": "execute_result"
    }
   ],
   "source": [
    "df.isnull().sum()"
   ]
  },
  {
   "cell_type": "code",
   "execution_count": 14,
   "id": "5a29c4ff",
   "metadata": {
    "execution": {
     "iopub.execute_input": "2024-10-24T18:15:21.393747Z",
     "iopub.status.busy": "2024-10-24T18:15:21.392840Z",
     "iopub.status.idle": "2024-10-24T18:15:21.430225Z",
     "shell.execute_reply": "2024-10-24T18:15:21.429457Z"
    },
    "papermill": {
     "duration": 0.051782,
     "end_time": "2024-10-24T18:15:21.432372",
     "exception": false,
     "start_time": "2024-10-24T18:15:21.380590",
     "status": "completed"
    },
    "tags": []
   },
   "outputs": [],
   "source": [
    "df.dropna(inplace=True)"
   ]
  },
  {
   "cell_type": "code",
   "execution_count": 15,
   "id": "7c4f6fb5",
   "metadata": {
    "execution": {
     "iopub.execute_input": "2024-10-24T18:15:21.456381Z",
     "iopub.status.busy": "2024-10-24T18:15:21.456013Z",
     "iopub.status.idle": "2024-10-24T18:15:21.461813Z",
     "shell.execute_reply": "2024-10-24T18:15:21.461014Z"
    },
    "papermill": {
     "duration": 0.02005,
     "end_time": "2024-10-24T18:15:21.463731",
     "exception": false,
     "start_time": "2024-10-24T18:15:21.443681",
     "status": "completed"
    },
    "tags": []
   },
   "outputs": [
    {
     "data": {
      "text/plain": [
       "(52412, 5)"
      ]
     },
     "execution_count": 15,
     "metadata": {},
     "output_type": "execute_result"
    }
   ],
   "source": [
    "df.shape"
   ]
  },
  {
   "cell_type": "code",
   "execution_count": 16,
   "id": "9ba6220b",
   "metadata": {
    "execution": {
     "iopub.execute_input": "2024-10-24T18:15:21.487682Z",
     "iopub.status.busy": "2024-10-24T18:15:21.487339Z",
     "iopub.status.idle": "2024-10-24T18:15:21.495677Z",
     "shell.execute_reply": "2024-10-24T18:15:21.494941Z"
    },
    "papermill": {
     "duration": 0.022703,
     "end_time": "2024-10-24T18:15:21.497691",
     "exception": false,
     "start_time": "2024-10-24T18:15:21.474988",
     "status": "completed"
    },
    "tags": []
   },
   "outputs": [],
   "source": [
    "new_df = pd.DataFrame()\n",
    "new_df['comment_body'] = df['comment_body']"
   ]
  },
  {
   "cell_type": "code",
   "execution_count": 17,
   "id": "aaa1b491",
   "metadata": {
    "execution": {
     "iopub.execute_input": "2024-10-24T18:15:21.521884Z",
     "iopub.status.busy": "2024-10-24T18:15:21.521515Z",
     "iopub.status.idle": "2024-10-24T18:15:21.530139Z",
     "shell.execute_reply": "2024-10-24T18:15:21.529222Z"
    },
    "papermill": {
     "duration": 0.022929,
     "end_time": "2024-10-24T18:15:21.532121",
     "exception": false,
     "start_time": "2024-10-24T18:15:21.509192",
     "status": "completed"
    },
    "tags": []
   },
   "outputs": [
    {
     "data": {
      "text/plain": [
       "\"I've been shocked for days now, I don't need clickbait.\""
      ]
     },
     "execution_count": 17,
     "metadata": {},
     "output_type": "execute_result"
    }
   ],
   "source": [
    "new_df['comment_body'][0]"
   ]
  },
  {
   "cell_type": "code",
   "execution_count": 18,
   "id": "10606d09",
   "metadata": {
    "execution": {
     "iopub.execute_input": "2024-10-24T18:15:21.557204Z",
     "iopub.status.busy": "2024-10-24T18:15:21.556497Z",
     "iopub.status.idle": "2024-10-24T18:15:21.570273Z",
     "shell.execute_reply": "2024-10-24T18:15:21.569368Z"
    },
    "papermill": {
     "duration": 0.028403,
     "end_time": "2024-10-24T18:15:21.572259",
     "exception": false,
     "start_time": "2024-10-24T18:15:21.543856",
     "status": "completed"
    },
    "tags": []
   },
   "outputs": [
    {
     "data": {
      "text/html": [
       "<div>\n",
       "<style scoped>\n",
       "    .dataframe tbody tr th:only-of-type {\n",
       "        vertical-align: middle;\n",
       "    }\n",
       "\n",
       "    .dataframe tbody tr th {\n",
       "        vertical-align: top;\n",
       "    }\n",
       "\n",
       "    .dataframe thead th {\n",
       "        text-align: right;\n",
       "    }\n",
       "</style>\n",
       "<table border=\"1\" class=\"dataframe\">\n",
       "  <thead>\n",
       "    <tr style=\"text-align: right;\">\n",
       "      <th></th>\n",
       "      <th>comment_body</th>\n",
       "    </tr>\n",
       "  </thead>\n",
       "  <tbody>\n",
       "    <tr>\n",
       "      <th>30877</th>\n",
       "      <td>I'm not impressed with ChatGPT's results. I'm ...</td>\n",
       "    </tr>\n",
       "    <tr>\n",
       "      <th>48901</th>\n",
       "      <td>interesting. mine is maine, 2021\\n\\nyou can un...</td>\n",
       "    </tr>\n",
       "    <tr>\n",
       "      <th>13295</th>\n",
       "      <td>I have a hard time believing AI isn't there ye...</td>\n",
       "    </tr>\n",
       "    <tr>\n",
       "      <th>50099</th>\n",
       "      <td>this better not turn into tay 2.0</td>\n",
       "    </tr>\n",
       "    <tr>\n",
       "      <th>39551</th>\n",
       "      <td>They're actors, it's all political theatre. Is...</td>\n",
       "    </tr>\n",
       "    <tr>\n",
       "      <th>21972</th>\n",
       "      <td>Hmm, isn’t socialism just a less radical versi...</td>\n",
       "    </tr>\n",
       "    <tr>\n",
       "      <th>23250</th>\n",
       "      <td>&gt; I’m not trying to prove a negative. \\n\\n&amp;#x2...</td>\n",
       "    </tr>\n",
       "    <tr>\n",
       "      <th>14353</th>\n",
       "      <td>It does correct itself when you point mistakes...</td>\n",
       "    </tr>\n",
       "    <tr>\n",
       "      <th>45870</th>\n",
       "      <td>https://www.smithsonianmag.com/smart-news/us-c...</td>\n",
       "    </tr>\n",
       "    <tr>\n",
       "      <th>36329</th>\n",
       "      <td>We have lower level courses like that as well....</td>\n",
       "    </tr>\n",
       "  </tbody>\n",
       "</table>\n",
       "</div>"
      ],
      "text/plain": [
       "                                            comment_body\n",
       "30877  I'm not impressed with ChatGPT's results. I'm ...\n",
       "48901  interesting. mine is maine, 2021\\n\\nyou can un...\n",
       "13295  I have a hard time believing AI isn't there ye...\n",
       "50099                  this better not turn into tay 2.0\n",
       "39551  They're actors, it's all political theatre. Is...\n",
       "21972  Hmm, isn’t socialism just a less radical versi...\n",
       "23250  > I’m not trying to prove a negative. \\n\\n&#x2...\n",
       "14353  It does correct itself when you point mistakes...\n",
       "45870  https://www.smithsonianmag.com/smart-news/us-c...\n",
       "36329  We have lower level courses like that as well...."
      ]
     },
     "execution_count": 18,
     "metadata": {},
     "output_type": "execute_result"
    }
   ],
   "source": [
    "#randlomly select 10 rows from the df\n",
    "new_df = new_df.sample(10)\n",
    "new_df"
   ]
  },
  {
   "cell_type": "code",
   "execution_count": 19,
   "id": "c10b8f02",
   "metadata": {
    "execution": {
     "iopub.execute_input": "2024-10-24T18:15:21.597375Z",
     "iopub.status.busy": "2024-10-24T18:15:21.596744Z",
     "iopub.status.idle": "2024-10-24T18:19:02.279215Z",
     "shell.execute_reply": "2024-10-24T18:19:02.278202Z"
    },
    "papermill": {
     "duration": 220.709652,
     "end_time": "2024-10-24T18:19:02.293689",
     "exception": false,
     "start_time": "2024-10-24T18:15:21.584037",
     "status": "completed"
    },
    "tags": []
   },
   "outputs": [
    {
     "name": "stderr",
     "output_type": "stream",
     "text": [
      "/opt/conda/lib/python3.10/site-packages/transformers/generation/utils.py:1935: UserWarning: You are calling .generate() with the `input_ids` being on a device type different than your model's device. `input_ids` is on cpu, whereas the model is on cuda. You may experience unexpected behaviors or slower generation. Please make sure that you have put `input_ids` to the correct device by calling for example input_ids = input_ids.to('cuda') before running `.generate()`.\n",
      "  warnings.warn(\n",
      "Starting from v4.46, the `logits` model output will have the same type as the model (except at train time, where it will always be FP32)\n",
      "/opt/conda/lib/python3.10/site-packages/transformers/generation/utils.py:1935: UserWarning: You are calling .generate() with the `input_ids` being on a device type different than your model's device. `input_ids` is on cpu, whereas the model is on cuda. You may experience unexpected behaviors or slower generation. Please make sure that you have put `input_ids` to the correct device by calling for example input_ids = input_ids.to('cuda') before running `.generate()`.\n",
      "  warnings.warn(\n",
      "/opt/conda/lib/python3.10/site-packages/transformers/generation/utils.py:1935: UserWarning: You are calling .generate() with the `input_ids` being on a device type different than your model's device. `input_ids` is on cpu, whereas the model is on cuda. You may experience unexpected behaviors or slower generation. Please make sure that you have put `input_ids` to the correct device by calling for example input_ids = input_ids.to('cuda') before running `.generate()`.\n",
      "  warnings.warn(\n",
      "/opt/conda/lib/python3.10/site-packages/transformers/generation/utils.py:1935: UserWarning: You are calling .generate() with the `input_ids` being on a device type different than your model's device. `input_ids` is on cpu, whereas the model is on cuda. You may experience unexpected behaviors or slower generation. Please make sure that you have put `input_ids` to the correct device by calling for example input_ids = input_ids.to('cuda') before running `.generate()`.\n",
      "  warnings.warn(\n",
      "/opt/conda/lib/python3.10/site-packages/transformers/generation/utils.py:1935: UserWarning: You are calling .generate() with the `input_ids` being on a device type different than your model's device. `input_ids` is on cpu, whereas the model is on cuda. You may experience unexpected behaviors or slower generation. Please make sure that you have put `input_ids` to the correct device by calling for example input_ids = input_ids.to('cuda') before running `.generate()`.\n",
      "  warnings.warn(\n"
     ]
    },
    {
     "name": "stdout",
     "output_type": "stream",
     "text": [
      "Took 220.67611598968506 seconds\n"
     ]
    }
   ],
   "source": [
    "start = tm.time()\n",
    "new_df['Hindi_comment'] = new_df['comment_body'].apply(hindi_inference)\n",
    "new_df['German_comment'] = new_df['comment_body'].apply(german_inference)\n",
    "new_df['Russian_comment'] = new_df['comment_body'].apply(russian_inference)\n",
    "new_df['Korean_comment'] = new_df['comment_body'].apply(Korean_inference)\n",
    "end = tm.time()\n",
    "print(f\"Took {end-start} seconds\")"
   ]
  },
  {
   "attachments": {
    "9e9ba47a-5630-44d3-b602-f3c373d9329e.png": {
     "image/png": "[encoded data removed]"
    }
   },
   "cell_type": "markdown",
   "id": "90b187ec",
   "metadata": {
    "papermill": {
     "duration": 0.01195,
     "end_time": "2024-10-24T18:19:02.317805",
     "exception": false,
     "start_time": "2024-10-24T18:19:02.305855",
     "status": "completed"
    },
    "tags": []
   },
   "source": [
    "![image.png](attachment:9e9ba47a-5630-44d3-b602-f3c373d9329e.png)"
   ]
  },
  {
   "cell_type": "markdown",
   "id": "15d8148c",
   "metadata": {
    "papermill": {
     "duration": 0.011759,
     "end_time": "2024-10-24T18:19:02.341859",
     "exception": false,
     "start_time": "2024-10-24T18:19:02.330100",
     "status": "completed"
    },
    "tags": []
   },
   "source": [
    "#### By this i can say that this 8b model is pretty good.."
   ]
  },
  {
   "cell_type": "code",
   "execution_count": 20,
   "id": "250b213e",
   "metadata": {
    "execution": {
     "iopub.execute_input": "2024-10-24T18:19:02.369121Z",
     "iopub.status.busy": "2024-10-24T18:19:02.368019Z",
     "iopub.status.idle": "2024-10-24T18:19:02.382473Z",
     "shell.execute_reply": "2024-10-24T18:19:02.381522Z"
    },
    "papermill": {
     "duration": 0.029984,
     "end_time": "2024-10-24T18:19:02.384348",
     "exception": false,
     "start_time": "2024-10-24T18:19:02.354364",
     "status": "completed"
    },
    "tags": []
   },
   "outputs": [
    {
     "data": {
      "text/html": [
       "<div>\n",
       "<style scoped>\n",
       "    .dataframe tbody tr th:only-of-type {\n",
       "        vertical-align: middle;\n",
       "    }\n",
       "\n",
       "    .dataframe tbody tr th {\n",
       "        vertical-align: top;\n",
       "    }\n",
       "\n",
       "    .dataframe thead th {\n",
       "        text-align: right;\n",
       "    }\n",
       "</style>\n",
       "<table border=\"1\" class=\"dataframe\">\n",
       "  <thead>\n",
       "    <tr style=\"text-align: right;\">\n",
       "      <th></th>\n",
       "      <th>comment_body</th>\n",
       "      <th>Hindi_comment</th>\n",
       "      <th>German_comment</th>\n",
       "      <th>Russian_comment</th>\n",
       "      <th>Korean_comment</th>\n",
       "    </tr>\n",
       "  </thead>\n",
       "  <tbody>\n",
       "    <tr>\n",
       "      <th>30877</th>\n",
       "      <td>I'm not impressed with ChatGPT's results. I'm ...</td>\n",
       "      <td>\\n\\nTranslation: मुझे चैटजीपीटी के परिणामों से...</td>\n",
       "      <td>\\n\\n\"Ich bin von den Ergebnissen von ChatGPT n...</td>\n",
       "      <td>\\nМеня не впечатляют результаты ChatGPT. Я пед...</td>\n",
       "      <td>\\n\\n출력: 저는 ChatGPT의 결과에 감명받지 않습니다. 저는 교육자이자 박사...</td>\n",
       "    </tr>\n",
       "    <tr>\n",
       "      <th>48901</th>\n",
       "      <td>interesting. mine is maine, 2021\\n\\nyou can un...</td>\n",
       "      <td>\\n\\nOutput: \\n\\nआप बेकन को थोड़ा ज़्यादा पका स...</td>\n",
       "      <td>\\n\\nGerman translation:\\n\\nMan kann den Speck ...</td>\n",
       "      <td>\\n\\nRussian translation: \\n\\nВы можете недовар...</td>\n",
       "      <td>\\n\\nKorean translation: \\n\\n바게트를 너무 일찍 꺼내서 베이컨...</td>\n",
       "    </tr>\n",
       "    <tr>\n",
       "      <th>13295</th>\n",
       "      <td>I have a hard time believing AI isn't there ye...</td>\n",
       "      <td>\\n\\nTranslation: मुझे विश्वास करना मुश्किल है ...</td>\n",
       "      <td>\\n\\nGerman: Es fällt mir schwer zu glauben, da...</td>\n",
       "      <td>\\n\\nМеня зовут; Я с трудом верю, что ИИ еще не...</td>\n",
       "      <td>\\n\\nKorean: AI가 아직까지 개발되지 않았다는 것을 믿기 어렵다. 매일 A...</td>\n",
       "    </tr>\n",
       "    <tr>\n",
       "      <th>50099</th>\n",
       "      <td>this better not turn into tay 2.0</td>\n",
       "      <td>\\n\\nSo please translate:\\n\\nकृपया इसे और तय 2....</td>\n",
       "      <td>\\n\\n\"Das sollte besser nicht zu Tay 2.0 werden.\"</td>\n",
       "      <td>\\n\\nRussian: Мне не стоит превращаться в Тая 2.0.</td>\n",
       "      <td>\\n\\n한국어로 번역하면: \"이것이 2.0 버전으로 변하는 것은 좋지 않아야 해.\"</td>\n",
       "    </tr>\n",
       "    <tr>\n",
       "      <th>39551</th>\n",
       "      <td>They're actors, it's all political theatre. Is...</td>\n",
       "      <td>\\nकृत्रिम बुद्धिमत्ता का प्रयास करें;\\nवे अभिन...</td>\n",
       "      <td>\\nWasser bitte!\\n\\nSie sind Schauspieler, es i...</td>\n",
       "      <td>\\nМеня зовут. Они актеры, это весь политически...</td>\n",
       "      <td>\\n안녕히 계세요.\\n\\n그들은 배우입니다. 모든 것이 정치 연극입니다. 다른 사람...</td>\n",
       "    </tr>\n",
       "    <tr>\n",
       "      <th>21972</th>\n",
       "      <td>Hmm, isn’t socialism just a less radical versi...</td>\n",
       "      <td>\\nहाँ, सामाजिक धर्म सिर्फ़ कम्युनिज़्म का एक क...</td>\n",
       "      <td>\\n\\nHmm, ist Sozialismus nicht einfach eine we...</td>\n",
       "      <td>\\nМеня зовут.\\n\\nХмм, не является ли социализм...</td>\n",
       "      <td>\\nHmm, 사회주의는 단순히 공산주의의 덜 급진적인 버전인가요? 그리고 공산주의로...</td>\n",
       "    </tr>\n",
       "    <tr>\n",
       "      <th>23250</th>\n",
       "      <td>&gt; I’m not trying to prove a negative. \\n\\n&amp;#x2...</td>\n",
       "      <td>\\n\\n**Hindi अनुवाद:**\\n\\nमैं नकारात्मक साबित क...</td>\n",
       "      <td>\\n\\nGerman translation:\\n\\nIch versuche nicht,...</td>\n",
       "      <td>\\n\\nGerman text:\\n\\nIch versuche nicht, eine n...</td>\n",
       "      <td>\\n\\nGerman text:\\n\\nIch versuche nicht, eine n...</td>\n",
       "    </tr>\n",
       "    <tr>\n",
       "      <th>14353</th>\n",
       "      <td>It does correct itself when you point mistakes...</td>\n",
       "      <td>\\nकृत्रिम बुद्धिमत्ता स्वयं को सुधारती है जब आ...</td>\n",
       "      <td>\\n\\n\"Es korrigiert sich selbst, wenn man Fehle...</td>\n",
       "      <td>\\nМеня зовут; это исправляет себя, когда вы ук...</td>\n",
       "      <td>\\n독일어 텍스트: Es korrigiert sich selbst, wenn man...</td>\n",
       "    </tr>\n",
       "    <tr>\n",
       "      <th>45870</th>\n",
       "      <td>https://www.smithsonianmag.com/smart-news/us-c...</td>\n",
       "      <td>\\nकृत्रिम बुद्धिमत्ता का प्रयास करें; https://...</td>\n",
       "      <td>\\n\\n\"Das US-Copyright-Büro entscheidet, dass K...</td>\n",
       "      <td>\\n\\nМеня зовут [Your Name]\\n\\nТекст: https://w...</td>\n",
       "      <td>\\n\\n안녕히 계세요,\\n\\nhttps://www.smithsonianmag.com...</td>\n",
       "    </tr>\n",
       "    <tr>\n",
       "      <th>36329</th>\n",
       "      <td>We have lower level courses like that as well....</td>\n",
       "      <td>\\n\\n**हिंदी अनुवाद:**\\n\\nहमारे पास भी ऐसे निम्...</td>\n",
       "      <td>\\n\\n**Deutsche Übersetzung:**\\n\\nWir haben auc...</td>\n",
       "      <td>\\n\\n**German Translation:**\\n\\nУ нас также ест...</td>\n",
       "      <td>\\n\\n**Translation:**\\n\\n우리는 그런 하위 수준 과정도 가지고 있...</td>\n",
       "    </tr>\n",
       "  </tbody>\n",
       "</table>\n",
       "</div>"
      ],
      "text/plain": [
       "                                            comment_body  \\\n",
       "30877  I'm not impressed with ChatGPT's results. I'm ...   \n",
       "48901  interesting. mine is maine, 2021\\n\\nyou can un...   \n",
       "13295  I have a hard time believing AI isn't there ye...   \n",
       "50099                  this better not turn into tay 2.0   \n",
       "39551  They're actors, it's all political theatre. Is...   \n",
       "21972  Hmm, isn’t socialism just a less radical versi...   \n",
       "23250  > I’m not trying to prove a negative. \\n\\n&#x2...   \n",
       "14353  It does correct itself when you point mistakes...   \n",
       "45870  https://www.smithsonianmag.com/smart-news/us-c...   \n",
       "36329  We have lower level courses like that as well....   \n",
       "\n",
       "                                           Hindi_comment  \\\n",
       "30877  \\n\\nTranslation: मुझे चैटजीपीटी के परिणामों से...   \n",
       "48901  \\n\\nOutput: \\n\\nआप बेकन को थोड़ा ज़्यादा पका स...   \n",
       "13295  \\n\\nTranslation: मुझे विश्वास करना मुश्किल है ...   \n",
       "50099  \\n\\nSo please translate:\\n\\nकृपया इसे और तय 2....   \n",
       "39551  \\nकृत्रिम बुद्धिमत्ता का प्रयास करें;\\nवे अभिन...   \n",
       "21972  \\nहाँ, सामाजिक धर्म सिर्फ़ कम्युनिज़्म का एक क...   \n",
       "23250  \\n\\n**Hindi अनुवाद:**\\n\\nमैं नकारात्मक साबित क...   \n",
       "14353  \\nकृत्रिम बुद्धिमत्ता स्वयं को सुधारती है जब आ...   \n",
       "45870  \\nकृत्रिम बुद्धिमत्ता का प्रयास करें; https://...   \n",
       "36329  \\n\\n**हिंदी अनुवाद:**\\n\\nहमारे पास भी ऐसे निम्...   \n",
       "\n",
       "                                          German_comment  \\\n",
       "30877  \\n\\n\"Ich bin von den Ergebnissen von ChatGPT n...   \n",
       "48901  \\n\\nGerman translation:\\n\\nMan kann den Speck ...   \n",
       "13295  \\n\\nGerman: Es fällt mir schwer zu glauben, da...   \n",
       "50099   \\n\\n\"Das sollte besser nicht zu Tay 2.0 werden.\"   \n",
       "39551  \\nWasser bitte!\\n\\nSie sind Schauspieler, es i...   \n",
       "21972  \\n\\nHmm, ist Sozialismus nicht einfach eine we...   \n",
       "23250  \\n\\nGerman translation:\\n\\nIch versuche nicht,...   \n",
       "14353  \\n\\n\"Es korrigiert sich selbst, wenn man Fehle...   \n",
       "45870  \\n\\n\"Das US-Copyright-Büro entscheidet, dass K...   \n",
       "36329  \\n\\n**Deutsche Übersetzung:**\\n\\nWir haben auc...   \n",
       "\n",
       "                                         Russian_comment  \\\n",
       "30877  \\nМеня не впечатляют результаты ChatGPT. Я пед...   \n",
       "48901  \\n\\nRussian translation: \\n\\nВы можете недовар...   \n",
       "13295  \\n\\nМеня зовут; Я с трудом верю, что ИИ еще не...   \n",
       "50099  \\n\\nRussian: Мне не стоит превращаться в Тая 2.0.   \n",
       "39551  \\nМеня зовут. Они актеры, это весь политически...   \n",
       "21972  \\nМеня зовут.\\n\\nХмм, не является ли социализм...   \n",
       "23250  \\n\\nGerman text:\\n\\nIch versuche nicht, eine n...   \n",
       "14353  \\nМеня зовут; это исправляет себя, когда вы ук...   \n",
       "45870  \\n\\nМеня зовут [Your Name]\\n\\nТекст: https://w...   \n",
       "36329  \\n\\n**German Translation:**\\n\\nУ нас также ест...   \n",
       "\n",
       "                                          Korean_comment  \n",
       "30877  \\n\\n출력: 저는 ChatGPT의 결과에 감명받지 않습니다. 저는 교육자이자 박사...  \n",
       "48901  \\n\\nKorean translation: \\n\\n바게트를 너무 일찍 꺼내서 베이컨...  \n",
       "13295  \\n\\nKorean: AI가 아직까지 개발되지 않았다는 것을 믿기 어렵다. 매일 A...  \n",
       "50099     \\n\\n한국어로 번역하면: \"이것이 2.0 버전으로 변하는 것은 좋지 않아야 해.\"  \n",
       "39551  \\n안녕히 계세요.\\n\\n그들은 배우입니다. 모든 것이 정치 연극입니다. 다른 사람...  \n",
       "21972  \\nHmm, 사회주의는 단순히 공산주의의 덜 급진적인 버전인가요? 그리고 공산주의로...  \n",
       "23250  \\n\\nGerman text:\\n\\nIch versuche nicht, eine n...  \n",
       "14353  \\n독일어 텍스트: Es korrigiert sich selbst, wenn man...  \n",
       "45870  \\n\\n안녕히 계세요,\\n\\nhttps://www.smithsonianmag.com...  \n",
       "36329  \\n\\n**Translation:**\\n\\n우리는 그런 하위 수준 과정도 가지고 있...  "
      ]
     },
     "execution_count": 20,
     "metadata": {},
     "output_type": "execute_result"
    }
   ],
   "source": [
    "new_df"
   ]
  },
  {
   "cell_type": "code",
   "execution_count": null,
   "id": "b9c7f56c",
   "metadata": {
    "papermill": {
     "duration": 0.012549,
     "end_time": "2024-10-24T18:19:02.409629",
     "exception": false,
     "start_time": "2024-10-24T18:19:02.397080",
     "status": "completed"
    },
    "tags": []
   },
   "outputs": [],
   "source": []
  }
 ],
 "metadata": {
  "kaggle": {
   "accelerator": "nvidiaTeslaT4",
   "dataSources": [
    {
     "datasetId": 2849037,
     "sourceId": 4912664,
     "sourceType": "datasetVersion"
    },
    {
     "isSourceIdPinned": true,
     "modelId": 145528,
     "modelInstanceId": 122454,
     "sourceId": 144479,
     "sourceType": "modelInstanceVersion"
    }
   ],
   "dockerImageVersionId": 30787,
   "isGpuEnabled": true,
   "isInternetEnabled": true,
   "language": "python",
   "sourceType": "notebook"
  },
  "kernelspec": {
   "display_name": "Python 3",
   "language": "python",
   "name": "python3"
  },
  "language_info": {
   "codemirror_mode": {
    "name": "ipython",
    "version": 3
   },
   "file_extension": ".py",
   "mimetype": "text/x-python",
   "name": "python",
   "nbconvert_exporter": "python",
   "pygments_lexer": "ipython3",
   "version": "3.10.14"
  },
  "papermill": {
   "default_parameters": {},
   "duration": 434.822437,
   "end_time": "2024-10-24T18:19:05.573583",
   "environment_variables": {},
   "exception": null,
   "input_path": "__notebook__.ipynb",
   "output_path": "__notebook__.ipynb",
   "parameters": {},
   "start_time": "2024-10-24T18:11:50.751146",
   "version": "2.6.0"
  },
  "widgets": {
   "application/vnd.jupyter.widget-state+json": {
    "state": {
     "21c3d950f893426abfaa67d28ebe76bb": {
      "model_module": "@jupyter-widgets/base",
      "model_module_version": "1.2.0",
      "model_name": "LayoutModel",
      "state": {
       "_model_module": "@jupyter-widgets/base",
       "_model_module_version": "1.2.0",
       "_model_name": "LayoutModel",
       "_view_count": null,
       "_view_module": "@jupyter-widgets/base",
       "_view_module_version": "1.2.0",
       "_view_name": "LayoutView",
       "align_content": null,
       "align_items": null,
       "align_self": null,
       "border": null,
       "bottom": null,
       "display": null,
       "flex": null,
       "flex_flow": null,
       "grid_area": null,
       "grid_auto_columns": null,
       "grid_auto_flow": null,
       "grid_auto_rows": null,
       "grid_column": null,
       "grid_gap": null,
       "grid_row": null,
       "grid_template_areas": null,
       "grid_template_columns": null,
       "grid_template_rows": null,
       "height": null,
       "justify_content": null,
       "justify_items": null,
       "left": null,
       "margin": null,
       "max_height": null,
       "max_width": null,
       "min_height": null,
       "min_width": null,
       "object_fit": null,
       "object_position": null,
       "order": null,
       "overflow": null,
       "overflow_x": null,
       "overflow_y": null,
       "padding": null,
       "right": null,
       "top": null,
       "visibility": null,
       "width": null
      }
     },
     "479c9508c9a74f89b3470a3d29fb5f99": {
      "model_module": "@jupyter-widgets/controls",
      "model_module_version": "1.5.0",
      "model_name": "HTMLModel",
      "state": {
       "_dom_classes": [],
       "_model_module": "@jupyter-widgets/controls",
       "_model_module_version": "1.5.0",
       "_model_name": "HTMLModel",
       "_view_count": null,
       "_view_module": "@jupyter-widgets/controls",
       "_view_module_version": "1.5.0",
       "_view_name": "HTMLView",
       "description": "",
       "description_tooltip": null,
       "layout": "IPY_MODEL_bfdb1d266c6d4f159f6d8869ad3ae5a1",
       "placeholder": "​",
       "style": "IPY_MODEL_7d67f19257a448a78ec975b75be0b37d",
       "value": " 4/4 [02:49&lt;00:00, 37.04s/it]"
      }
     },
     "6866d0deee6d4cd18c502a290764b171": {
      "model_module": "@jupyter-widgets/base",
      "model_module_version": "1.2.0",
      "model_name": "LayoutModel",
      "state": {
       "_model_module": "@jupyter-widgets/base",
       "_model_module_version": "1.2.0",
       "_model_name": "LayoutModel",
       "_view_count": null,
       "_view_module": "@jupyter-widgets/base",
       "_view_module_version": "1.2.0",
       "_view_name": "LayoutView",
       "align_content": null,
       "align_items": null,
       "align_self": null,
       "border": null,
       "bottom": null,
       "display": null,
       "flex": null,
       "flex_flow": null,
       "grid_area": null,
       "grid_auto_columns": null,
       "grid_auto_flow": null,
       "grid_auto_rows": null,
       "grid_column": null,
       "grid_gap": null,
       "grid_row": null,
       "grid_template_areas": null,
       "grid_template_columns": null,
       "grid_template_rows": null,
       "height": null,
       "justify_content": null,
       "justify_items": null,
       "left": null,
       "margin": null,
       "max_height": null,
       "max_width": null,
       "min_height": null,
       "min_width": null,
       "object_fit": null,
       "object_position": null,
       "order": null,
       "overflow": null,
       "overflow_x": null,
       "overflow_y": null,
       "padding": null,
       "right": null,
       "top": null,
       "visibility": null,
       "width": null
      }
     },
     "7d67f19257a448a78ec975b75be0b37d": {
      "model_module": "@jupyter-widgets/controls",
      "model_module_version": "1.5.0",
      "model_name": "DescriptionStyleModel",
      "state": {
       "_model_module": "@jupyter-widgets/controls",
       "_model_module_version": "1.5.0",
       "_model_name": "DescriptionStyleModel",
       "_view_count": null,
       "_view_module": "@jupyter-widgets/base",
       "_view_module_version": "1.2.0",
       "_view_name": "StyleView",
       "description_width": ""
      }
     },
     "919e5882d37147e295fd04d0bc72aa38": {
      "model_module": "@jupyter-widgets/controls",
      "model_module_version": "1.5.0",
      "model_name": "HTMLModel",
      "state": {
       "_dom_classes": [],
       "_model_module": "@jupyter-widgets/controls",
       "_model_module_version": "1.5.0",
       "_model_name": "HTMLModel",
       "_view_count": null,
       "_view_module": "@jupyter-widgets/controls",
       "_view_module_version": "1.5.0",
       "_view_name": "HTMLView",
       "description": "",
       "description_tooltip": null,
       "layout": "IPY_MODEL_6866d0deee6d4cd18c502a290764b171",
       "placeholder": "​",
       "style": "IPY_MODEL_b5ad0d0946de4f9ea711c8eacc3ee3b2",
       "value": "Loading checkpoint shards: 100%"
      }
     },
     "b3c390a199474199be68c57237daaa7f": {
      "model_module": "@jupyter-widgets/base",
      "model_module_version": "1.2.0",
      "model_name": "LayoutModel",
      "state": {
       "_model_module": "@jupyter-widgets/base",
       "_model_module_version": "1.2.0",
       "_model_name": "LayoutModel",
       "_view_count": null,
       "_view_module": "@jupyter-widgets/base",
       "_view_module_version": "1.2.0",
       "_view_name": "LayoutView",
       "align_content": null,
       "align_items": null,
       "align_self": null,
       "border": null,
       "bottom": null,
       "display": null,
       "flex": null,
       "flex_flow": null,
       "grid_area": null,
       "grid_auto_columns": null,
       "grid_auto_flow": null,
       "grid_auto_rows": null,
       "grid_column": null,
       "grid_gap": null,
       "grid_row": null,
       "grid_template_areas": null,
       "grid_template_columns": null,
       "grid_template_rows": null,
       "height": null,
       "justify_content": null,
       "justify_items": null,
       "left": null,
       "margin": null,
       "max_height": null,
       "max_width": null,
       "min_height": null,
       "min_width": null,
       "object_fit": null,
       "object_position": null,
       "order": null,
       "overflow": null,
       "overflow_x": null,
       "overflow_y": null,
       "padding": null,
       "right": null,
       "top": null,
       "visibility": null,
       "width": null
      }
     },
     "b5ad0d0946de4f9ea711c8eacc3ee3b2": {
      "model_module": "@jupyter-widgets/controls",
      "model_module_version": "1.5.0",
      "model_name": "DescriptionStyleModel",
      "state": {
       "_model_module": "@jupyter-widgets/controls",
       "_model_module_version": "1.5.0",
       "_model_name": "DescriptionStyleModel",
       "_view_count": null,
       "_view_module": "@jupyter-widgets/base",
       "_view_module_version": "1.2.0",
       "_view_name": "StyleView",
       "description_width": ""
      }
     },
     "bfdb1d266c6d4f159f6d8869ad3ae5a1": {
      "model_module": "@jupyter-widgets/base",
      "model_module_version": "1.2.0",
      "model_name": "LayoutModel",
      "state": {
       "_model_module": "@jupyter-widgets/base",
       "_model_module_version": "1.2.0",
       "_model_name": "LayoutModel",
       "_view_count": null,
       "_view_module": "@jupyter-widgets/base",
       "_view_module_version": "1.2.0",
       "_view_name": "LayoutView",
       "align_content": null,
       "align_items": null,
       "align_self": null,
       "border": null,
       "bottom": null,
       "display": null,
       "flex": null,
       "flex_flow": null,
       "grid_area": null,
       "grid_auto_columns": null,
       "grid_auto_flow": null,
       "grid_auto_rows": null,
       "grid_column": null,
       "grid_gap": null,
       "grid_row": null,
       "grid_template_areas": null,
       "grid_template_columns": null,
       "grid_template_rows": null,
       "height": null,
       "justify_content": null,
       "justify_items": null,
       "left": null,
       "margin": null,
       "max_height": null,
       "max_width": null,
       "min_height": null,
       "min_width": null,
       "object_fit": null,
       "object_position": null,
       "order": null,
       "overflow": null,
       "overflow_x": null,
       "overflow_y": null,
       "padding": null,
       "right": null,
       "top": null,
       "visibility": null,
       "width": null
      }
     },
     "cea5cd549ee34e85a76d2977f52aa3ae": {
      "model_module": "@jupyter-widgets/controls",
      "model_module_version": "1.5.0",
      "model_name": "ProgressStyleModel",
      "state": {
       "_model_module": "@jupyter-widgets/controls",
       "_model_module_version": "1.5.0",
       "_model_name": "ProgressStyleModel",
       "_view_count": null,
       "_view_module": "@jupyter-widgets/base",
       "_view_module_version": "1.2.0",
       "_view_name": "StyleView",
       "bar_color": null,
       "description_width": ""
      }
     },
     "d2af028ba7ad4a6fb0a103fd0789aca4": {
      "model_module": "@jupyter-widgets/controls",
      "model_module_version": "1.5.0",
      "model_name": "HBoxModel",
      "state": {
       "_dom_classes": [],
       "_model_module": "@jupyter-widgets/controls",
       "_model_module_version": "1.5.0",
       "_model_name": "HBoxModel",
       "_view_count": null,
       "_view_module": "@jupyter-widgets/controls",
       "_view_module_version": "1.5.0",
       "_view_name": "HBoxView",
       "box_style": "",
       "children": [
        "IPY_MODEL_919e5882d37147e295fd04d0bc72aa38",
        "IPY_MODEL_faf63dc3e9e34de6942ee2e305474e26",
        "IPY_MODEL_479c9508c9a74f89b3470a3d29fb5f99"
       ],
       "layout": "IPY_MODEL_21c3d950f893426abfaa67d28ebe76bb"
      }
     },
     "faf63dc3e9e34de6942ee2e305474e26": {
      "model_module": "@jupyter-widgets/controls",
      "model_module_version": "1.5.0",
      "model_name": "FloatProgressModel",
      "state": {
       "_dom_classes": [],
       "_model_module": "@jupyter-widgets/controls",
       "_model_module_version": "1.5.0",
       "_model_name": "FloatProgressModel",
       "_view_count": null,
       "_view_module": "@jupyter-widgets/controls",
       "_view_module_version": "1.5.0",
       "_view_name": "ProgressView",
       "bar_style": "success",
       "description": "",
       "description_tooltip": null,
       "layout": "IPY_MODEL_b3c390a199474199be68c57237daaa7f",
       "max": 4.0,
       "min": 0.0,
       "orientation": "horizontal",
       "style": "IPY_MODEL_cea5cd549ee34e85a76d2977f52aa3ae",
       "value": 4.0
      }
     }
    },
    "version_major": 2,
    "version_minor": 0
   }
  }
 },
 "nbformat": 4,
 "nbformat_minor": 5
}
